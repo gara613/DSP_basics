{
 "cells": [
  {
   "cell_type": "markdown",
   "metadata": {},
   "source": [
    "# Simple Fourier series example"
   ]
  },
  {
   "cell_type": "markdown",
   "metadata": {},
   "source": [
    "This example shows the use of the Fourier series synthesis expression for the reconstruction of a given signal from its coefficients.\n",
    "$$ x(t) = \\sum_{n=-\\infty}^\\infty c_n e^{in\\omega_ot}$$\n",
    "In this case the signal to be reconstructed is a polar sequence taking values in {-1,1} with periodicity $T_0=1$ n even.\n",
    "\n",
    "As is known from the class material, the Fourier analysis expansion (coefficients) for this signal are given by: \n",
    "$$ c_n = \\begin{cases} 0 & n \\text{ even} \\\\ \\frac{2}{in\\pi} & n \\text{ odd} \\end{cases} $$"
   ]
  },
  {
   "cell_type": "code",
   "execution_count": 2,
   "metadata": {
    "collapsed": false
   },
   "outputs": [
    {
     "name": "stdout",
     "output_type": "stream",
     "text": [
      "Populating the interactive namespace from numpy and matplotlib\n"
     ]
    },
    {
     "name": "stderr",
     "output_type": "stream",
     "text": [
      "D:\\Sw4Engineering\\Anaconda3\\lib\\site-packages\\ipykernel\\__main__.py:19: RuntimeWarning: divide by zero encountered in true_divide\n",
      "D:\\Sw4Engineering\\Anaconda3\\lib\\site-packages\\ipykernel\\__main__.py:19: RuntimeWarning: invalid value encountered in true_divide\n"
     ]
    },
    {
     "data": {
      "image/png": "[encoded data removed]",
      "text/plain": [
       "<matplotlib.figure.Figure at 0x271da13bd30>"
      ]
     },
     "metadata": {},
     "output_type": "display_data"
    },
    {
     "data": {
      "image/png": "[encoded data removed]",
      "text/plain": [
       "<matplotlib.figure.Figure at 0x271dc091cf8>"
      ]
     },
     "metadata": {},
     "output_type": "display_data"
    },
    {
     "data": {
      "text/plain": [
       "(<matplotlib.text.Text at 0x271dc6c28d0>,\n",
       " <matplotlib.text.Text at 0x271dc6b1a58>,\n",
       " None)"
      ]
     },
     "execution_count": 2,
     "metadata": {},
     "output_type": "execute_result"
    }
   ],
   "source": [
    "# Script to calculate the Fourier series of a polar signal of 50% duty cycle\n",
    "# Germán Augusto Ramírez Arroyave\n",
    "# Universidad Católidca de Colombia\n",
    "# Last review august 2015\n",
    "\n",
    "%pylab inline\n",
    "import numpy as np\n",
    "\n",
    "N = 51\n",
    "n = np.arange(0,N)\n",
    "T0 = 1\n",
    "omega0 = 2*np.pi/T0\n",
    "support = np.linspace(-2*T0,3*T0,1001)\n",
    "A = 1\n",
    "\n",
    "x = 0\n",
    "Cn = np.zeros(N)\n",
    "\n",
    "Cn = 2/(1j*n*np.pi)\n",
    "\n",
    "stem(n,np.absolute(Cn)), ylim([0,1])\n",
    "xlabel('n'), ylabel('Cn'), show()\n",
    "\n",
    "for n in range(1,N,2):\n",
    "    x += 2*np.absolute(Cn[n])*np.cos(n * omega0 *support + np.angle(Cn[n]))\n",
    "x = A*x\n",
    "\n",
    "plot(support,x), ylim([-1.5,1.5])\n",
    "xlabel('time'), ylabel('x(t)'), show()"
   ]
  },
  {
   "cell_type": "markdown",
   "metadata": {},
   "source": [
    "### Activity I"
   ]
  },
  {
   "cell_type": "markdown",
   "metadata": {},
   "source": [
    "Review the code given above and after properly commenting it, answer the following questions:\n",
    "1. What does the import numpy line means?\n",
    "2. Why is (dis)advantageous to use pylab inline\n",
    "3. What are the major differences to Matlab programming you find in this first approach\n",
    "4. Read reference: http://wiki.scipy.org/NumPy_for_Matlab_Users\n",
    "5. How does this code works according to the mathematical expression of the Fourier series?"
   ]
  },
  {
   "cell_type": "markdown",
   "metadata": {},
   "source": [
    "### Activity II"
   ]
  },
  {
   "cell_type": "markdown",
   "metadata": {},
   "source": [
    "Consider the MATLAB script below and answer the questions stated therein"
   ]
  },
  {
   "cell_type": "code",
   "execution_count": 3,
   "metadata": {
    "collapsed": false
   },
   "outputs": [
    {
     "ename": "SyntaxError",
     "evalue": "invalid syntax (<ipython-input-3-ac9284cf7d01>, line 6)",
     "output_type": "error",
     "traceback": [
      "\u001b[1;36m  File \u001b[1;32m\"<ipython-input-3-ac9284cf7d01>\"\u001b[1;36m, line \u001b[1;32m6\u001b[0m\n\u001b[1;33m    %% Parameter definition,\u001b[0m\n\u001b[1;37m    ^\u001b[0m\n\u001b[1;31mSyntaxError\u001b[0m\u001b[1;31m:\u001b[0m invalid syntax\n"
     ]
    }
   ],
   "source": [
    "# Script to calculate the Fourier series of a polar signal of 50% duty cycle\n",
    "# Germán Augusto Ramírez Arroyave\n",
    "# Universidad Católica de Colombia\n",
    "# Last review august 2015\n",
    "\n",
    "%% Parameter definition, \n",
    "N = 21;         % Amount of summed coefficients \n",
    "A = 1;          % Amplitude\n",
    "To = 1;         % Period\n",
    "wo = 2*pi/To;\n",
    "fs = 200*wo;    % Sampling frequency\n",
    "t = 0:1/fs:2*To;\n",
    "\n",
    "%% Statement of the coefficients\n",
    "cn = zeros(1,N);\n",
    "n = 1:2:N;\n",
    "cn(n) = 2*A ./ (1i*n*pi);\n",
    "\n",
    "%% Signal reconstruction\n",
    "% There are given some alternatives below, but beware, ¡There is a mistaken one! ¿Which one? ¿Why? (Suggestion: Enable one at a time and see what happens)\n",
    "x = 0;\n",
    "\n",
    "% Alternative 1: direct implementation of the series sum\n",
    "if ~mod(N,2)    \n",
    "\tN = N+1;\n",
    "end\n",
    "for n = -N:2:N   \n",
    "\tx = x + 2*A /(1i*n*pi) * exp(1i*n*wo*t); \n",
    "end\n",
    "\n",
    "% Alternative 2: use the magnitude spectrum's symmetry and sum only the positive coefficients\n",
    "% for k = 1:2:N \n",
    "%     x = x + 2*cn(k) * exp(1i*k*wo*t); \n",
    "% end\n",
    "\n",
    "% Alternative 3: use the magnitude and angle representation of the Series\n",
    "% for k = 1:2:N \n",
    "%     x = x + 2*abs(cn(k)) * cos(k*wo*t + angle(cn(k))); \n",
    "% end\n",
    "\n",
    "% Alternative 4:use the expansion for possitive terms of the sum for real signals\n",
    "% for k = 1:2:N \n",
    "%     x = x + cn(k) * exp(1i*k*wo*t) + conj(cn(k)) * exp(-1i*k*wo*t); \n",
    "% end\n",
    "\n",
    "figure; plot(t,real(x));\n",
    "title('Reconstrucción de la señal'); ylabel('Real de x(t)'); xlabel('t (seg)');\n",
    "figure; plot(t,imag(x));\n",
    "title('Reconstrucción de la señal'); ylabel('Imag de x(t)'); xlabel('t (seg)');"
   ]
  },
  {
   "cell_type": "code",
   "execution_count": null,
   "metadata": {
    "collapsed": true
   },
   "outputs": [],
   "source": []
  }
 ],
 "metadata": {
  "anaconda-cloud": {},
  "kernelspec": {
   "display_name": "Python [default]",
   "language": "python",
   "name": "python3"
  },
  "language_info": {
   "codemirror_mode": {
    "name": "ipython",
    "version": 3
   },
   "file_extension": ".py",
   "mimetype": "text/x-python",
   "name": "python",
   "nbconvert_exporter": "python",
   "pygments_lexer": "ipython3",
   "version": "3.5.2"
  }
 },
 "nbformat": 4,
 "nbformat_minor": 0
}
