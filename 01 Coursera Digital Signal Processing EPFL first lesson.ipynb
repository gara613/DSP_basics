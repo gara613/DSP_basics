{
 "cells": [
  {
   "cell_type": "markdown",
   "metadata": {},
   "source": [
    "# Coursera Digital Signal Processing EPFL first lesson"
   ]
  },
  {
   "cell_type": "markdown",
   "metadata": {},
   "source": [
    "## Getting Started: Variables and Arrays "
   ]
  },
  {
   "cell_type": "markdown",
   "metadata": {},
   "source": [
    "Variables are where you store your values and results of your operations. Despite some other programming languages, in Python there is no need to define a variable or its type prior to using it.\n",
    "\n",
    "The most important variable type you will be working with is the array type. Please note the very important fact that in Python, indices of an array start from zero. Initializing arrays is simple and can be done using the following commands, for example"
   ]
  },
  {
   "cell_type": "code",
   "execution_count": 1,
   "metadata": {
    "collapsed": false
   },
   "outputs": [],
   "source": [
    "v1=[1,2,3,4]\n",
    "v2=[4,2,7,4]\n",
    "v3=[v1,v2]"
   ]
  },
  {
   "cell_type": "markdown",
   "metadata": {},
   "source": [
    "Please note that hereafter, we use the terms \"matrix\" and \"array\" interchangeably since in Python and in the programming language community in general, a matrix is simply an array of arrays or a multi-dimensional array. Principal difference when you work with Matlab and Numpy!"
   ]
  },
  {
   "cell_type": "code",
   "execution_count": 2,
   "metadata": {
    "collapsed": false
   },
   "outputs": [
    {
     "name": "stdout",
     "output_type": "stream",
     "text": [
      "[4, 2, 7, 4]\n",
      "[[1, 2, 3, 4], [4, 2, 7, 4]]\n"
     ]
    }
   ],
   "source": [
    "print(v2)\n",
    "print(v3)"
   ]
  },
  {
   "cell_type": "markdown",
   "metadata": {},
   "source": [
    "There are useful commands which facilitate creating and initializing matrices. Two of them are the function zeros and ones, which can create arbitrary arrays with values initialized to \\(0\\) and \\(1\\) respectively.\n",
    "\n",
    "The very first line calls the ipython magic command %pylab, which initializes the environment with commands from numpy and matplotlib. Note that this can only work in an ipython shell or notebook. If you are writing a script, you will need to import numpy and matplotlib manually.\n",
    "Consider the following commands for example:"
   ]
  },
  {
   "cell_type": "code",
   "execution_count": 3,
   "metadata": {
    "collapsed": false
   },
   "outputs": [
    {
     "name": "stdout",
     "output_type": "stream",
     "text": [
      "Populating the interactive namespace from numpy and matplotlib\n"
     ]
    }
   ],
   "source": [
    "%pylab inline\n",
    "z1=zeros(2)\n",
    "o1=ones((2,2))"
   ]
  },
  {
   "cell_type": "markdown",
   "metadata": {},
   "source": [
    "Another useful group of functions are those which query about the structure or shape of an array, i.e. its number of elements and dimensions.\n",
    "The first one is \"shape\" which returns the number of elements in each dimension of an array (like MATLAB's size()).\n",
    "which outputs \\((2L,4L)\\) meaning that v3 is a $(2\\times 4)$ matrix. The letter $(L)$ in the output stands for \"long\", stating that size of an array is by default a long integer value.\n",
    "\n",
    "The second one is \"size\" which outputs the number of elements in the whole array/matrix or a specific dimension of it (This is partly similar to MATLAB's length(), not size(). Note the confusion)."
   ]
  },
  {
   "cell_type": "code",
   "execution_count": 4,
   "metadata": {
    "collapsed": false
   },
   "outputs": [
    {
     "name": "stdout",
     "output_type": "stream",
     "text": [
      "(2, 4)\n",
      "2\n",
      "4\n"
     ]
    }
   ],
   "source": [
    "print(shape(v3))\n",
    "print(size(v3,0)) \n",
    "print(size(v3,1))"
   ]
  },
  {
   "cell_type": "markdown",
   "metadata": {},
   "source": [
    "## Matrix Operations "
   ]
  },
  {
   "cell_type": "markdown",
   "metadata": {},
   "source": [
    "To flatten a multi-dimensional array into a single-dimensional vector, we use a combination of commands \"flatten\" and \"list\". For example, the following line of code flattens the array v3 defined above:"
   ]
  },
  {
   "cell_type": "code",
   "execution_count": 5,
   "metadata": {
    "collapsed": false
   },
   "outputs": [
    {
     "name": "stdout",
     "output_type": "stream",
     "text": [
      "[1, 2, 3, 4, 4, 2, 7, 4]\n"
     ]
    }
   ],
   "source": [
    "v4=list(flatten(v3))\n",
    "print(v4)"
   ]
  },
  {
   "cell_type": "markdown",
   "metadata": {},
   "source": [
    "The function transpose transposes v3, similar to MATLAB's transpose operator (single-quotation). This is shown below:"
   ]
  },
  {
   "cell_type": "code",
   "execution_count": 6,
   "metadata": {
    "collapsed": false
   },
   "outputs": [
    {
     "name": "stdout",
     "output_type": "stream",
     "text": [
      "[[1 4]\n",
      " [2 2]\n",
      " [3 7]\n",
      " [4 4]]\n"
     ]
    }
   ],
   "source": [
    "v5=transpose(v3)\n",
    "print(v5)"
   ]
  },
  {
   "cell_type": "markdown",
   "metadata": {},
   "source": [
    "The matrix multiplication and element-wise multiplication are performed using the commands \"dot\" and \"multiply\", respectively:"
   ]
  },
  {
   "cell_type": "code",
   "execution_count": 7,
   "metadata": {
    "collapsed": false
   },
   "outputs": [
    {
     "name": "stdout",
     "output_type": "stream",
     "text": [
      "[[30 45]\n",
      " [45 85]]\n",
      "[[ 1  4  9 16]\n",
      " [16  4 49 16]]\n"
     ]
    }
   ],
   "source": [
    "v6=dot(v3,v5)\n",
    "v7=multiply(v3,v3)\n",
    "print(v6)\n",
    "print(v7)"
   ]
  },
  {
   "cell_type": "markdown",
   "metadata": {},
   "source": [
    "Please note that the summation operator \"+\" has a completely different meaning for arrays/matrices than for scalar numbers. The output of the following line of code for example, is the concatenation of the two vectors v1 and v2, rather than their element-wise summation one may guess."
   ]
  },
  {
   "cell_type": "code",
   "execution_count": 8,
   "metadata": {
    "collapsed": false
   },
   "outputs": [
    {
     "data": {
      "text/plain": [
       "[1, 2, 3, 4, 4, 2, 7, 4]"
      ]
     },
     "execution_count": 8,
     "metadata": {},
     "output_type": "execute_result"
    }
   ],
   "source": [
    "v1+v2"
   ]
  },
  {
   "cell_type": "markdown",
   "metadata": {},
   "source": [
    "For element-wise summation, we should use the sum function. Please also note that the division operator on integer values (which are default values in Python) acts as the modulo operator. That means 2/4 outputs \\(0\\) for example, but 2.0/4 outputs \\(0.5\\).\n",
    "\n",
    "$\\begin{table}[ht]\n",
    "\\begin{tabular}{c c}\n",
    "add & Addition   \\\\\n",
    "subtract & Subtraction  \\\\\n",
    "dot &\tMatrix multiplication \\\\\n",
    "multiply &\tElement-wise multiplication \\\\\n",
    "divide &\tElement-wise division \\\\\n",
    "np.power &\tElement-wise power\n",
    "\\end{tabular}\n",
    "\\end{table}$"
   ]
  },
  {
   "cell_type": "markdown",
   "metadata": {},
   "source": [
    "<table>\n",
    "<tr>\n",
    "<th>operand</th>\n",
    "<th>Operation</th>\n",
    "</tr>\n",
    "<tr>\n",
    "<td>add</td>\n",
    "<td>Addition</td>\n",
    "</tr>\n",
    "<tr>\n",
    "<td>subtract</td>\n",
    "<td>Subtraction</td>\n",
    "</tr>\n",
    "<tr>\n",
    "<td>dot</td>\n",
    "<td>Matrix multiplication</td>\n",
    "</tr>\n",
    "<tr>\n",
    "<td>multiply</td>\n",
    "<td>Element-wise multiplication</td>\n",
    "</tr>\n",
    "<tr>\n",
    "<td>divide</td>\n",
    "<td>Element-wise division</td>\n",
    "</tr>\n",
    "<tr>\n",
    "<td>np.power</td>\n",
    "<td>Element-wise power</td>\n",
    "</tr>\n",
    "</table>"
   ]
  },
  {
   "cell_type": "markdown",
   "metadata": {},
   "source": [
    "## Importing Data"
   ]
  },
  {
   "cell_type": "markdown",
   "metadata": {},
   "source": [
    "Various commands provide means to import data in different formats and various modalities. A few of them are mentioned here.\n",
    "\n",
    "To read the data stored in an ASCII text file, the function loadtxt is used. The following piece of code, for example:"
   ]
  },
  {
   "cell_type": "code",
   "execution_count": 9,
   "metadata": {
    "collapsed": false
   },
   "outputs": [
    {
     "ename": "FileNotFoundError",
     "evalue": "[Errno 2] No such file or directory: 'data.txt'",
     "output_type": "error",
     "traceback": [
      "\u001b[1;31m---------------------------------------------------------------------------\u001b[0m",
      "\u001b[1;31mFileNotFoundError\u001b[0m                         Traceback (most recent call last)",
      "\u001b[1;32m<ipython-input-9-0e4a848cbf20>\u001b[0m in \u001b[0;36m<module>\u001b[1;34m()\u001b[0m\n\u001b[1;32m----> 1\u001b[1;33m \u001b[0mv11\u001b[0m\u001b[1;33m=\u001b[0m\u001b[0mloadtxt\u001b[0m\u001b[1;33m(\u001b[0m\u001b[1;34m'data.txt'\u001b[0m\u001b[1;33m)\u001b[0m\u001b[1;33m\u001b[0m\u001b[0m\n\u001b[0m",
      "\u001b[1;32mD:\\Sw4Engineering\\Anaconda3\\lib\\site-packages\\numpy\\lib\\npyio.py\u001b[0m in \u001b[0;36mloadtxt\u001b[1;34m(fname, dtype, comments, delimiter, converters, skiprows, usecols, unpack, ndmin)\u001b[0m\n\u001b[0;32m    737\u001b[0m                 \u001b[0mfh\u001b[0m \u001b[1;33m=\u001b[0m \u001b[0miter\u001b[0m\u001b[1;33m(\u001b[0m\u001b[0mopen\u001b[0m\u001b[1;33m(\u001b[0m\u001b[0mfname\u001b[0m\u001b[1;33m,\u001b[0m \u001b[1;34m'U'\u001b[0m\u001b[1;33m)\u001b[0m\u001b[1;33m)\u001b[0m\u001b[1;33m\u001b[0m\u001b[0m\n\u001b[0;32m    738\u001b[0m             \u001b[1;32melse\u001b[0m\u001b[1;33m:\u001b[0m\u001b[1;33m\u001b[0m\u001b[0m\n\u001b[1;32m--> 739\u001b[1;33m                 \u001b[0mfh\u001b[0m \u001b[1;33m=\u001b[0m \u001b[0miter\u001b[0m\u001b[1;33m(\u001b[0m\u001b[0mopen\u001b[0m\u001b[1;33m(\u001b[0m\u001b[0mfname\u001b[0m\u001b[1;33m)\u001b[0m\u001b[1;33m)\u001b[0m\u001b[1;33m\u001b[0m\u001b[0m\n\u001b[0m\u001b[0;32m    740\u001b[0m         \u001b[1;32melse\u001b[0m\u001b[1;33m:\u001b[0m\u001b[1;33m\u001b[0m\u001b[0m\n\u001b[0;32m    741\u001b[0m             \u001b[0mfh\u001b[0m \u001b[1;33m=\u001b[0m \u001b[0miter\u001b[0m\u001b[1;33m(\u001b[0m\u001b[0mfname\u001b[0m\u001b[1;33m)\u001b[0m\u001b[1;33m\u001b[0m\u001b[0m\n",
      "\u001b[1;31mFileNotFoundError\u001b[0m: [Errno 2] No such file or directory: 'data.txt'"
     ]
    }
   ],
   "source": [
    "v11=loadtxt('mypath\\data.txt')"
   ]
  },
  {
   "cell_type": "markdown",
   "metadata": {},
   "source": [
    "Reads the data in the file data.txt into the matrix v11 and prints the matrix. Each line of the text file is stored in a row of v11.\n",
    "\n",
    "Values in a line are assumed to be separated by white spaces by default. To change this, for example in the case of comma-separated CSV files, we use the following form:"
   ]
  },
  {
   "cell_type": "code",
   "execution_count": null,
   "metadata": {
    "collapsed": false
   },
   "outputs": [],
   "source": [
    "v12=loadtxt('mypath\\data.csv',delimiter=',')\n",
    "print(v12)"
   ]
  },
  {
   "cell_type": "markdown",
   "metadata": {},
   "source": [
    "We can also import data from MATLAB's specific .mat files. This can be done using the following lines of code:"
   ]
  },
  {
   "cell_type": "code",
   "execution_count": null,
   "metadata": {
    "collapsed": false
   },
   "outputs": [],
   "source": [
    "import scipy.io as sio\n",
    "sio.loadmat('mypath\\matlab.mat')"
   ]
  },
  {
   "cell_type": "markdown",
   "metadata": {},
   "source": [
    "The first line is required since the package containing the loadmat function is not loaded by default. So we need to import it manually."
   ]
  },
  {
   "cell_type": "markdown",
   "metadata": {},
   "source": [
    "Finally, to load an image, the function imread is used:"
   ]
  },
  {
   "cell_type": "code",
   "execution_count": null,
   "metadata": {
    "collapsed": false
   },
   "outputs": [],
   "source": [
    "I=imread('mypath\\image.bmp')\n",
    "print(shape(I))"
   ]
  },
  {
   "cell_type": "markdown",
   "metadata": {},
   "source": [
    "The command in the first line is used to read the image into a matrix, here called \"I\". Supported formats may vary depending on the device and the operating system. The second line prints the size and the number of color channels of the image."
   ]
  },
  {
   "cell_type": "markdown",
   "metadata": {},
   "source": [
    "## Functions and Scripts"
   ]
  },
  {
   "cell_type": "markdown",
   "metadata": {},
   "source": [
    "You can define your own functions and scripts in Python as well. We start with scripts here.\n",
    "\n",
    "A script can be any piece of code that you may want to run together and more than once. For example, the following code draws 1000 random samples from the standard Gaussian distribution and plots a histogram of them. You can verify the statistical distribution of the samples by looking at the histogram."
   ]
  },
  {
   "cell_type": "markdown",
   "metadata": {},
   "source": [
    "You can create, edit, save and execute your scripts through the Editor panel in Spyder (which is part of Anaconda's Python package). "
   ]
  },
  {
   "cell_type": "code",
   "execution_count": 9,
   "metadata": {
    "collapsed": false
   },
   "outputs": [
    {
     "data": {
      "image/png": "[encoded data removed]",
      "text/plain": [
       "<matplotlib.figure.Figure at 0x4ce8ac8>"
      ]
     },
     "metadata": {},
     "output_type": "display_data"
    }
   ],
   "source": [
    "x = randn(10000);\n",
    "hist(x, 100);"
   ]
  },
  {
   "cell_type": "markdown",
   "metadata": {},
   "source": [
    "You can also define your own functions in a script. Functions are defined by a starting def command. Consider the following code for example:"
   ]
  },
  {
   "cell_type": "code",
   "execution_count": 10,
   "metadata": {
    "collapsed": false
   },
   "outputs": [
    {
     "name": "stdout",
     "output_type": "stream",
     "text": [
      "32.0\n"
     ]
    }
   ],
   "source": [
    "def celsius_to_fahrenheit(c_temp):\n",
    "    return 9.0 / 5.0 * c_temp + 32\n",
    "print(celsius_to_fahrenheit(0))"
   ]
  },
  {
   "cell_type": "code",
   "execution_count": null,
   "metadata": {
    "collapsed": false
   },
   "outputs": [],
   "source": []
  }
 ],
 "metadata": {
  "anaconda-cloud": {},
  "kernelspec": {
   "display_name": "Python [default]",
   "language": "python",
   "name": "python3"
  },
  "language_info": {
   "codemirror_mode": {
    "name": "ipython",
    "version": 3
   },
   "file_extension": ".py",
   "mimetype": "text/x-python",
   "name": "python",
   "nbconvert_exporter": "python",
   "pygments_lexer": "ipython3",
   "version": "3.5.2"
  }
 },
 "nbformat": 4,
 "nbformat_minor": 0
}
