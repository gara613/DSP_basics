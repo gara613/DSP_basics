{
 "cells": [
  {
   "cell_type": "markdown",
   "metadata": {},
   "source": [
    "# DFS, DFT and FFT"
   ]
  },
  {
   "cell_type": "markdown",
   "metadata": {},
   "source": [
    "## DFS and DFT as projections on a base of complex sinusoids"
   ]
  },
  {
   "cell_type": "markdown",
   "metadata": {},
   "source": [
    "In short, using the DFS or the DFT we are projecting a signal of length N on a basis of N complex sinusoids $W_N^{n,k}$ with $k=1,…,N$."
   ]
  },
  {
   "cell_type": "code",
   "execution_count": 1,
   "metadata": {
    "collapsed": true
   },
   "outputs": [],
   "source": [
    "def dftmatrix(N):\n",
    "    '''construct DFT matrix'''\n",
    "    import numpy as np\n",
    "    \n",
    "    # create a 1xN matrix containing indices 0 to N-1\n",
    "    a = np.expand_dims(np.arange(N), 0)\n",
    "    \n",
    "    # take advantage of numpy broadcasting to create the matrix\n",
    "    WN = np.exp(-2j*np.pi*a.T*a/N)\n",
    "    \n",
    "    return WN"
   ]
  },
  {
   "cell_type": "markdown",
   "metadata": {},
   "source": [
    "Let's see what happens if we reduce the dimension of the base, that is the number of sinusoids used to represent the signal!\n",
    "One complex sinusoid (of order 0, i.e. a constant), taken from the first 128 samples of the frequency Representation signal yields:"
   ]
  },
  {
   "cell_type": "code",
   "execution_count": 2,
   "metadata": {
    "collapsed": false
   },
   "outputs": [],
   "source": [
    "import numpy as np\n",
    "x = np.append(np.ones(64),np.zeros(64))\n",
    "W128 = dftmatrix(128)\n",
    "X1 = np.dot(W128[0],x)\n",
    "xx1 = np.real(np.conjugate(W128[:,0])*X1*1/128)"
   ]
  },
  {
   "cell_type": "markdown",
   "metadata": {},
   "source": [
    "Two,three,... complex sinusoids will be:"
   ]
  },
  {
   "cell_type": "code",
   "execution_count": 3,
   "metadata": {
    "collapsed": false
   },
   "outputs": [],
   "source": [
    "X2 = np.dot(W128[0:2],x)\n",
    "xx2 = np.real(np.dot(np.conjugate(W128[:,0:2]),X2)*1/128)\n",
    "\n",
    "X3 = np.dot(W128[0:3],x)\n",
    "xx3 = np.real(np.dot(np.conjugate(W128[:,0:3]),X3)*1/128)\n",
    "\n",
    "X4 = np.dot(W128[0:4],x)\n",
    "xx4 = np.real(np.dot(np.conjugate(W128[:,0:4]),X4)*1/128)\n",
    "\n",
    "X5 = np.dot(W128[0:5],x)\n",
    "xx5 = np.real(np.dot(np.conjugate(W128[:,0:5]),X5)*1/128)\n",
    "\n",
    "X6 = np.dot(W128[0:6],x)\n",
    "xx6 = np.real(np.dot(np.conjugate(W128[:,0:6]),X6)*1/128)\n",
    "\n",
    "X7 = np.dot(W128[0:7],x)\n",
    "xx7 = np.real(np.dot(np.conjugate(W128[:,0:7]),X7)*1/128)\n",
    "\n",
    "X8 = np.dot(W128[0:8],x)\n",
    "xx8 = np.real(np.dot(np.conjugate(W128[:,0:8]),X8)*1/128)\n",
    "\n",
    "X9 = np.dot(W128[0:9],x)\n",
    "xx9 = np.real(np.dot(np.conjugate(W128[:,0:9]),X9)*1/128)\n",
    "\n",
    "X10 = np.dot(W128[0:10],x)\n",
    "xx10 = np.real(np.dot(np.conjugate(W128[:,0:10]),X10)*1/128)\n",
    "\n",
    "X128 = np.dot(W128,x)\n",
    "xx128 = np.real(np.dot(np.conjugate(W128),X128)*1/128)"
   ]
  },
  {
   "cell_type": "markdown",
   "metadata": {},
   "source": [
    "and so on, up to considering 10 complex sinusoids. If now we plot the signal representation using 1,2 and up to 10 sinusoids we obtain the following figure:"
   ]
  },
  {
   "cell_type": "code",
   "execution_count": 4,
   "metadata": {
    "collapsed": false
   },
   "outputs": [
    {
     "name": "stdout",
     "output_type": "stream",
     "text": [
      "Populating the interactive namespace from numpy and matplotlib\n"
     ]
    },
    {
     "data": {
      "image/png": "[encoded data removed]",
      "text/plain": [
       "<matplotlib.figure.Figure at 0x4ba7780>"
      ]
     },
     "metadata": {},
     "output_type": "display_data"
    }
   ],
   "source": [
    "%pylab inline\n",
    "\n",
    "plot(np.arange(xx1.size),xx1)\n",
    "plot(np.arange(xx2.size),xx2)\n",
    "plot(np.arange(xx3.size),xx3)\n",
    "plot(np.arange(xx4.size),xx4)\n",
    "plot(np.arange(xx5.size),xx5)\n",
    "plot(np.arange(xx6.size),xx6)\n",
    "plot(np.arange(xx7.size),xx7)\n",
    "plot(np.arange(xx8.size),xx8)\n",
    "plot(np.arange(xx9.size),xx9)\n",
    "plot(np.arange(xx10.size),xx10)\n",
    "plot(np.arange(xx128.size),xx128)\n",
    "xlabel('Samples'), ylabel('x'), xlim([0,128])\n",
    "show()"
   ]
  },
  {
   "cell_type": "markdown",
   "metadata": {},
   "source": [
    "## Three tones"
   ]
  },
  {
   "cell_type": "markdown",
   "metadata": {},
   "source": [
    "Let us consider another example. We create a simple signal $x$ composed of 3 tones $x1$, $x2$, and $x3$"
   ]
  },
  {
   "cell_type": "code",
   "execution_count": 5,
   "metadata": {
    "collapsed": true
   },
   "outputs": [],
   "source": [
    "from scipy import constants as c\n",
    "y = np.linspace(0,999,1000)\n",
    "x1 = np.sin((y*2*c.pi*40)/1000)\n",
    "x2 = np.sin((y*2*c.pi*80)/1000)\n",
    "x3 = np.sin((y*2*c.pi*160)/1000)"
   ]
  },
  {
   "cell_type": "markdown",
   "metadata": {},
   "source": [
    "We can put together these signals to get a final signal composed of $N=5000$ samples, with silence in between the 3 different sine waves."
   ]
  },
  {
   "cell_type": "code",
   "execution_count": 6,
   "metadata": {
    "collapsed": true
   },
   "outputs": [],
   "source": [
    "x = np.append(x1,[np.zeros(1000),x2,np.zeros(1000),x3])"
   ]
  },
  {
   "cell_type": "markdown",
   "metadata": {},
   "source": [
    "Let's generate the Fourier matrix $W_N$ (with N=5000) and compute the DFS or DFT of the signal"
   ]
  },
  {
   "cell_type": "code",
   "execution_count": 7,
   "metadata": {
    "collapsed": false
   },
   "outputs": [
    {
     "data": {
      "image/png": "[encoded data removed]",
      "text/plain": [
       "<matplotlib.figure.Figure at 0x4cbe5c0>"
      ]
     },
     "metadata": {},
     "output_type": "display_data"
    }
   ],
   "source": [
    "W5000 = dftmatrix(5000)\n",
    "X = np.dot(W5000,x)\n",
    "normFrequ = np.arange(1,X.size+1,dtype=float)/float(X.size)\n",
    "plot(normFrequ,abs(X))\n",
    "ylabel('|X|'), xlabel('Normalized Frequencies')\n",
    "show()"
   ]
  },
  {
   "cell_type": "markdown",
   "metadata": {},
   "source": [
    "where we can clearly see the three tones.\n",
    "\n",
    "Let's now reduce the base over which the signal is represented, and take:"
   ]
  },
  {
   "cell_type": "code",
   "execution_count": 8,
   "metadata": {
    "collapsed": false
   },
   "outputs": [
    {
     "data": {
      "image/png": "[encoded data removed]",
      "text/plain": [
       "<matplotlib.figure.Figure at 0x7a6e3c8>"
      ]
     },
     "metadata": {},
     "output_type": "display_data"
    }
   ],
   "source": [
    "W5000reduced = np.append(W5000[0:600],W5000[4399:5000],axis=0)                 # Selecciona 1201 filas de la matriz original\n",
    "iW5000reduced = np.conj(np.append(W5000[:,0:600],W5000[:,4399:5000],axis=-1))  # reduce la dimensionalidad del espacio de representación de 5000 a 1201...\n",
    "\n",
    "Xapprox = np.dot(W5000reduced,x)                # DFT/DFS on a reduced base\n",
    "xapprox = np.dot(iW5000reduced,Xapprox)*1/5000  # inverse DFT/DFS of the DFT/DFS on a reduced base\n",
    "xapprox = np.real(xapprox)                      # real value of the result to get rid of imaginary numerical errors\n",
    "\n",
    "X = np.dot(W5000,xapprox)\n",
    "plot(np.arange(1,5001,dtype=float)/float(5000),abs(X))\n",
    "ylabel('|X|'), xlabel('Normalized Frequencies')\n",
    "show()"
   ]
  },
  {
   "cell_type": "markdown",
   "metadata": {},
   "source": [
    "## Numerical optimization: Fast Fourier Transform - FFT"
   ]
  },
  {
   "cell_type": "markdown",
   "metadata": {},
   "source": [
    "If we take a look at the matrix form of the DFS or DFT\n",
    "$X = W_N x$ # We assume here $W_N$ to have dimensions $N \\times N$ and $x$ to have dimensions $N \\times 1$\n",
    "\n",
    "We see that it requires $O(N^2)$ multiplications. As $N$ increases, the computational burden is way too high. Already in the case of the previous example with $N=5000$ the number of multiplication is not negligible.\n",
    "\n",
    "The Fast Fourier Transform (FFT) is an algorithm that optimizes the computation of the DFS/DFT by reducing the number of multiplications to $2N\\log_2N$. Standard FFT algorithm requires $N$ to be a power of 2, and, if it is not the case, the algorithm adds zeros (zero padding) to the signal to reach a number of samples that is a power of 2.\n",
    "\n",
    "Python implements the Fast Fourier Transform using the following command:"
   ]
  },
  {
   "cell_type": "code",
   "execution_count": 9,
   "metadata": {
    "collapsed": true
   },
   "outputs": [],
   "source": [
    "from scipy import fftpack as f\n",
    "X = f.fft(x)"
   ]
  },
  {
   "cell_type": "markdown",
   "metadata": {},
   "source": [
    "The fft() function is also optimized with respect to numerical errors.\n",
    "\n",
    "In the first numerical example presented in Fourier Transform, we have indeed chosen a step function of length 128 so as to fall into the framework of an optimized algorithm w.r.t. the computational burden and the numerical errors.\n",
    "\n",
    "The FFT function also accepts an additional parameter M enabling to choose how many samples of x are used to compute the FFT\n",
    "\n",
    "X = scipy.fftpack.fft(x,M)"
   ]
  },
  {
   "cell_type": "markdown",
   "metadata": {},
   "source": [
    "### Getting familiar with the FFT: Truncating and Zero Padding"
   ]
  },
  {
   "cell_type": "markdown",
   "metadata": {},
   "source": [
    "Consider a signal $x$ composed of $N$ samples and let's use the function X = fft(x,M) to compute the FFT."
   ]
  },
  {
   "cell_type": "markdown",
   "metadata": {},
   "source": [
    "#### Truncating"
   ]
  },
  {
   "cell_type": "markdown",
   "metadata": {},
   "source": [
    "If $M<N$ then the FFT is computed using the first $M$ samples of $x$.\n",
    "Let's take another two tones signal, with $N=4000$"
   ]
  },
  {
   "cell_type": "code",
   "execution_count": 10,
   "metadata": {
    "collapsed": true
   },
   "outputs": [],
   "source": [
    "M = 4000\n",
    "y = np.linspace(0,M-1,M)\n",
    "x1 = np.sin((y*2*c.pi*40)/1000)\n",
    "x2 = np.sin((y*2*c.pi*50)/1000)\n",
    "x = x1 + x2"
   ]
  },
  {
   "cell_type": "markdown",
   "metadata": {},
   "source": [
    "Let's plot the spectrum and represent the frequency axis relatively to the number of samples, i.e., between 0 and 1. We are going to compute the fft using all the samples, that is"
   ]
  },
  {
   "cell_type": "code",
   "execution_count": 11,
   "metadata": {
    "collapsed": false
   },
   "outputs": [
    {
     "data": {
      "image/png": "[encoded data removed]",
      "text/plain": [
       "<matplotlib.figure.Figure at 0x7ae1978>"
      ]
     },
     "metadata": {},
     "output_type": "display_data"
    }
   ],
   "source": [
    "X = f.fft(x,M)\n",
    "#Plot versus the normalized frequencies\n",
    "normFrequ = np.arange(1,M+1,dtype=float)/float(M)\n",
    "plot(normFrequ,abs(X))\n",
    "ylabel('|X|'), xlabel('Normalized Frequencies')\n",
    "show()"
   ]
  },
  {
   "cell_type": "markdown",
   "metadata": {},
   "source": [
    "As expected, the spectrum shows the energy of the signal concentrated on two precise frequencies.\n",
    "Let us now reduce the number of samples used to compute the DFS / DFT, and take for instance $M=500$:"
   ]
  },
  {
   "cell_type": "code",
   "execution_count": 12,
   "metadata": {
    "collapsed": false
   },
   "outputs": [
    {
     "data": {
      "image/png": "[encoded data removed]",
      "text/plain": [
       "<matplotlib.figure.Figure at 0xd6fd748>"
      ]
     },
     "metadata": {},
     "output_type": "display_data"
    }
   ],
   "source": [
    "M = 500\n",
    "X = f.fft(x,500)\n",
    "#Plot versus the normalized frequencies\n",
    "normFrequ = np.arange(1,M+1,dtype=float)/float(M)\n",
    "plot(normFrequ,abs(X))\n",
    "ylabel('|X|'), xlabel('Normalized Frequencies')\n",
    "ylim([0,300])\n",
    "show()"
   ]
  },
  {
   "cell_type": "markdown",
   "metadata": {},
   "source": [
    "and $M=50$"
   ]
  },
  {
   "cell_type": "code",
   "execution_count": 13,
   "metadata": {
    "collapsed": false
   },
   "outputs": [
    {
     "data": {
      "image/png": "[encoded data removed]",
      "text/plain": [
       "<matplotlib.figure.Figure at 0xdaaee48>"
      ]
     },
     "metadata": {},
     "output_type": "display_data"
    }
   ],
   "source": [
    "M = 50\n",
    "X = f.fft(x,M)\n",
    "#Plot versus the normalized frequencies\n",
    "normFrequ = np.arange(1,M+1,dtype=float)/float(M)\n",
    "plot(normFrequ,abs(X)), ylim([0,35])\n",
    "ylabel('|X|'), xlabel('Normalized Frequencies')\n",
    "show()"
   ]
  },
  {
   "cell_type": "markdown",
   "metadata": {},
   "source": [
    "We can see that, as the number of samples decreases, it becomes more difficult to distignuish the two spectral lines that are on the contrary clearly visible on the DSF / DFT computed using all the 4000 samples. So the number of samples used to compute the DFS / DFT affects the resolution of the latter."
   ]
  },
  {
   "cell_type": "markdown",
   "metadata": {},
   "source": [
    "#### Zero Padding"
   ]
  },
  {
   "cell_type": "markdown",
   "metadata": {},
   "source": [
    "As mentioned earlier, if $M<N$ the number of samples of the signal is increased to $N$ by adding zeros.\n",
    "\n",
    "Since truncating decreases the resolution of the DFS / DFT, one might think that zero padding increases such a resolution. But we shall see that this is not the case...\n",
    "\n",
    "So let's take the DFS / DFT computed using only 50 samples and reconstruct the signal using such a DFS / DFT."
   ]
  },
  {
   "cell_type": "code",
   "execution_count": 14,
   "metadata": {
    "collapsed": true
   },
   "outputs": [],
   "source": [
    "M = 50\n",
    "X = f.fft(x,M)   # X is of length 50\n",
    "x50 = f.ifft(X)"
   ]
  },
  {
   "cell_type": "markdown",
   "metadata": {},
   "source": [
    "where we have used here the inverse FFT function scipy.fftpack.ifft().\n",
    "\n",
    "We have obtained a signal $x_{50}$ of $N=50$ samples and we compute the FFT with $M=4000$, that is, we zero pad the signal so as to have the initial number of samples before computing the FFT."
   ]
  },
  {
   "cell_type": "code",
   "execution_count": 15,
   "metadata": {
    "collapsed": false
   },
   "outputs": [
    {
     "data": {
      "image/png": "[encoded data removed]",
      "text/plain": [
       "<matplotlib.figure.Figure at 0x4572e48>"
      ]
     },
     "metadata": {},
     "output_type": "display_data"
    }
   ],
   "source": [
    "M = 4000\n",
    "X = f.fft(x50,M)\n",
    "\n",
    "#Plot versus the normalized Frequencies\n",
    "normFrequ = np.arange(1,M+1,dtype=float)/float(M)\n",
    "plot(normFrequ,abs(X))\n",
    "ylabel('|X|'), xlabel('Normalized Frequencies')\n",
    "show()"
   ]
  },
  {
   "cell_type": "markdown",
   "metadata": {},
   "source": [
    "As shown in the plot, the two spectral lines are still not distinguishable even if the FFT has now been computed using 4000 samples."
   ]
  },
  {
   "cell_type": "markdown",
   "metadata": {},
   "source": [
    "### Labeling axes and taking into account maximum representable frequency"
   ]
  },
  {
   "cell_type": "code",
   "execution_count": 17,
   "metadata": {
    "collapsed": false
   },
   "outputs": [
    {
     "data": {
      "image/png": "[encoded data removed]",
      "text/plain": [
       "<matplotlib.figure.Figure at 0xdad06a0>"
      ]
     },
     "metadata": {},
     "output_type": "display_data"
    },
    {
     "data": {
      "image/png": "[encoded data removed]",
      "text/plain": [
       "<matplotlib.figure.Figure at 0xdb034a8>"
      ]
     },
     "metadata": {},
     "output_type": "display_data"
    }
   ],
   "source": [
    "M = 4096\n",
    "f0 = 740\n",
    "Tmin= -1 # Time limits should not be directly related to the sampling frequency\n",
    "Tmax = 1 # Observe that M/(Tmax-Tmin)must be at least 2f0\n",
    "fs = M/(Tmax-Tmin)\n",
    "t = np.linspace(Tmin,Tmax,M)\n",
    "\n",
    "x = np.sinc(t*f0)\n",
    "plot(t,x)\n",
    "ylabel('x'), xlabel('Time (s)')\n",
    "show()\n",
    "\n",
    "X = f.fft(x,M)\n",
    "#Plot versus the normalized frequencies\n",
    "freqAxis = fs*np.arange(1,M+1,dtype=float)/float(M)\n",
    "plot(freqAxis[0:M/2],abs(X[0:M/2])), xlim([0,fs/2])\n",
    "ylabel('|X|'), xlabel('Frequency (Hz)')\n",
    "show()"
   ]
  },
  {
   "cell_type": "code",
   "execution_count": null,
   "metadata": {
    "collapsed": true
   },
   "outputs": [],
   "source": []
  }
 ],
 "metadata": {
  "kernelspec": {
   "display_name": "Python [default]",
   "language": "python",
   "name": "python3"
  },
  "language_info": {
   "codemirror_mode": {
    "name": "ipython",
    "version": 3
   },
   "file_extension": ".py",
   "mimetype": "text/x-python",
   "name": "python",
   "nbconvert_exporter": "python",
   "pygments_lexer": "ipython3",
   "version": "3.5.2"
  }
 },
 "nbformat": 4,
 "nbformat_minor": 0
}
