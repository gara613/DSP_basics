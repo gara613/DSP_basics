{
 "cells": [
  {
   "cell_type": "markdown",
   "metadata": {},
   "source": [
    "## Gram-Schmidt orthonormalization procedure"
   ]
  },
  {
   "cell_type": "markdown",
   "metadata": {},
   "source": [
    "The well known Gram-Schmidt orthonormalization procedure as implemented by EPFL DSP course.\n",
    "\n",
    "$$u_1 = v_1$$\n",
    "\n",
    "$$e_1 = \\frac{u_1}{\\left\\Vert u_1\\right\\Vert}$$\n",
    "\n",
    "$$\\vdots$$\n",
    "\n",
    "$$u_k = v_k - \\sum_{j=0}^{k-1}{\\left\\langle v_k,u_j\\right\\rangle} u_j$$\n",
    "\n",
    "$$e_k = \\frac{u_k}{\\left\\Vert u_k\\right\\Vert}$$"
   ]
  },
  {
   "cell_type": "code",
   "execution_count": 1,
   "metadata": {
    "collapsed": true
   },
   "outputs": [],
   "source": [
    "def gs_orthonormalization(V) :\n",
    "    # V is a matrix where each column contains the vectors spanning the space\n",
    "    # of which we want to compute the orthonormal base\n",
    "    # Will return a matrix where each column contains an ortho-normal vector of the base of the space\n",
    "    from numpy.linalg import norm\n",
    "    import numpy as np\n",
    "    \n",
    "    numberLines = V.shape[0]\n",
    "    numberColumns = V.shape[1]\n",
    "    #U is a matrix containing the orthogonal vectors (non normalized)\n",
    "    U = np.zeros((numberLines,numberColumns))\n",
    "    R = np.zeros((numberLines,numberColumns))\n",
    "    \n",
    "    for indexColumn in range(0,numberColumns): # Take current vector as direction of the base\n",
    "        U[:,indexColumn] = V[:,indexColumn]\n",
    "        \n",
    "        for index in range(0,indexColumn):     # Substract the components of the previous vectors \n",
    "            R[index,indexColumn] = np.dot(U[:,index],V[:,indexColumn])   # Inner product\n",
    "            U[:,indexColumn] = U[:,indexColumn] - R[index,indexColumn]*U[:,index]\n",
    "            \n",
    "        R[indexColumn,indexColumn] = norm(U[:,indexColumn])\n",
    "        U[:,indexColumn] = U[:,indexColumn] / float(R[indexColumn, indexColumn])   # Normalize vector\n",
    "    \n",
    "    return U"
   ]
  },
  {
   "cell_type": "markdown",
   "metadata": {},
   "source": [
    "Let us consider a simple yet interesting example. Take the orthonormal base in $\\mathbb{R}^3$\n",
    "\n",
    "$e_x=\\begin{bmatrix} 1 \\\\ 0 \\\\ 0 \\end{bmatrix}$,\n",
    "$e_y=\\begin{bmatrix} 0 \\\\ 1 \\\\ 0 \\end{bmatrix}$,\n",
    "$e_z=\\begin{bmatrix} 0 \\\\ 0 \\\\ 1 \\end{bmatrix}$\n",
    "\n",
    "The following rotation matrices\n",
    "\n",
    "$R_x(\\theta) = \\begin{bmatrix}\n",
    "1 & 0 & 0 \\\\ 0 & \\cos\\theta & -\\sin\\theta \\\\ 0 & \\sin\\theta & \\cos\\theta \n",
    "\\end{bmatrix}$\n",
    "\n",
    "$R_y(\\alpha) = \\begin{bmatrix}\n",
    "\\cos\\alpha & 0 & \\sin\\alpha \\\\ 0 & 1 & 0 \\\\ -\\sin\\alpha & 0 & \\cos\\alpha\n",
    "\\end{bmatrix}$\n",
    "\n",
    "$R_z(\\beta) = \\begin{bmatrix}\n",
    "\\cos\\beta & -\\sin\\beta & 0 \\\\ \\sin\\beta & \\cos\\beta & 0 \\\\ 0 & 0 & 1\n",
    "\\end{bmatrix}$\n",
    "\n",
    "Perform a counter-clock wise rotation of an angle $\\theta$, $\\alpha$, and $\\beta$ with respect to the axis $x$, $y$, and $z$, respectively.\n",
    "\n",
    "Let's rotate with $\\theta=\\pi/3$, $\\alpha=\\pi/4$, and $\\beta=\\pi/6$\n",
    "To get:\n",
    "\n",
    "$v_1=R_z(\\beta) e_x=\\begin{bmatrix} 0.8660 \\\\ 0.5000 \\\\ 0 \\end{bmatrix}$, \n",
    "$v_2=R_x(\\theta) e_y=\\begin{bmatrix}  0 \\\\ 0.5000 \\\\ 0.8660  \\end{bmatrix}$, \n",
    "$v_3=R_y(\\alpha)  e_z=\\begin{bmatrix}  0.7071 \\\\ 0 \\\\ 0.7071 \\end{bmatrix}$\n",
    "\n",
    "The so obtained three vectors, depicted in the figure above, do not form an orthogonal basis anymore. For instance <v1,v2>=0.25."
   ]
  },
  {
   "cell_type": "markdown",
   "metadata": {},
   "source": [
    "We can use the Gram-Schmidt procedure to re-obtain an orthonormal basis. By feeding the procedure with the matrix composed of the three vectors v1, v2, and v3 we obtain\n",
    "\n",
    "One can easily check that the colums of the matrix $E$ form an orthonormal basis, i.e.\n",
    "$E^T \\, E = \\begin{bmatrix} 1 & 0 & 0 \\\\ 0 & 1 & 0 \\\\ 0 & 0 & 1 \\end{bmatrix}.$"
   ]
  },
  {
   "cell_type": "code",
   "execution_count": 2,
   "metadata": {
    "collapsed": false
   },
   "outputs": [
    {
     "name": "stdout",
     "output_type": "stream",
     "text": [
      "matrix V\n",
      "[[ 0.8660254   0.          0.70710678]\n",
      " [ 0.5         0.5         0.        ]\n",
      " [ 0.          0.8660254   0.70710678]]\n",
      "Orthonormalized basis:\n",
      "[[ 0.8660254  -0.2236068   0.4472136 ]\n",
      " [ 0.5         0.38729833 -0.77459667]\n",
      " [ 0.          0.89442719  0.4472136 ]]\n",
      "Orthonormalization test\n",
      "[[  1.00000000e+00   3.40117748e-17   9.85099041e-17]\n",
      " [  3.40117748e-17   1.00000000e+00   5.63851383e-17]\n",
      " [  9.85099041e-17   5.63851383e-17   1.00000000e+00]]\n",
      "Check the orthonormality: 4.4746726991e-17\n"
     ]
    }
   ],
   "source": [
    "import numpy as np\n",
    "\n",
    "theta = np.pi/3; alpha = np.pi/4; beta = np.pi/6;\n",
    "\n",
    "ex = np.array([[1.0 ,0.0, 0.0]]).T\n",
    "ey = np.array([[0.0 ,1.0, 0.0]]).T\n",
    "ez = np.array([[0.0 ,0.0, 1.0]]).T\n",
    "\n",
    "Rx = np.array([[1.0, 0.0, 0.0], [0.0, np.cos(theta), -np.sin(theta)], [0.0, np.sin(theta), np.cos(theta)]]);\n",
    "Ry = np.array([[np.cos(alpha), 0.0, np.sin(alpha)], [0.0, 1.0, 0.0], [-np.sin(alpha), 0.0, np.cos(alpha)]]);\n",
    "Rz = np.array([[np.cos(beta), -np.sin(beta), 0.0], [np.sin(beta), np.cos(beta), 0.0], [0.0, 0.0, 1.0]]);\n",
    "\n",
    "v1 = np.dot(Rz,ex); v2 = np.dot(Rx,ey); v3 = np.dot(Ry,ez);\n",
    "\n",
    "V = np.concatenate((v1, v2, v3), axis=1)\n",
    "print('matrix V')\n",
    "print(V)\n",
    "\n",
    "E = gs_orthonormalization(V)\n",
    "\n",
    "print('Orthonormalized basis:')\n",
    "print(E)\n",
    "print('Orthonormalization test')\n",
    "print(np.dot(E.T,E))\n",
    "print('Check the orthonormality:',(np.dot(E.T,E) - np.eye(3)).sum())"
   ]
  },
  {
   "cell_type": "markdown",
   "metadata": {},
   "source": []
  }
 ],
 "metadata": {
  "anaconda-cloud": {},
  "kernelspec": {
   "display_name": "Python [default]",
   "language": "python",
   "name": "python3"
  },
  "language_info": {
   "codemirror_mode": {
    "name": "ipython",
    "version": 3
   },
   "file_extension": ".py",
   "mimetype": "text/x-python",
   "name": "python",
   "nbconvert_exporter": "python",
   "pygments_lexer": "ipython3",
   "version": "3.5.2"
  }
 },
 "nbformat": 4,
 "nbformat_minor": 0
}
