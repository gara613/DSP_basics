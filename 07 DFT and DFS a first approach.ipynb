{
 "cells": [
  {
   "cell_type": "markdown",
   "metadata": {},
   "source": [
    "# DFS & DFT"
   ]
  },
  {
   "cell_type": "markdown",
   "metadata": {},
   "source": [
    "The discrete Fourier transform (DFT) of a signal is defined using the following formula:\n",
    "\n",
    "$$X[k]=\\sum_{n=0}^{N-1} x[n] e^{-j(2\\pi/N)(n)(k)}, \\quad n,k=0,\\ldots,N-1$$\n",
    "\n",
    "Similar formula is used for the discrete Fourier series (DFS) of a periodic signal.\n",
    "The DFS / DFT is a vector of complex numbers which can be represented via their magnitude and phase"
   ]
  },
  {
   "cell_type": "markdown",
   "metadata": {},
   "source": [
    "### Transformation matrix"
   ]
  },
  {
   "cell_type": "markdown",
   "metadata": {},
   "source": [
    "DFS / DFT can be easily implemented using the transform matrix $W_N$. We recall that for a signal of length $N$ the transform matrix has as $n$-th row and $k$-th column element $W_N(n,k)=e^{−j(2π/N)(n k)}=W^{(n)(k)}_N$, with $n,k=0,…,N−1$,  and there we denote $W_N=e^{−j(2π/N)}$.\n",
    "\n",
    "In Python, a DFT matrix can be generated using the following code."
   ]
  },
  {
   "cell_type": "code",
   "execution_count": 1,
   "metadata": {
    "collapsed": true
   },
   "outputs": [],
   "source": [
    "def dftmatrix(N):\n",
    "    '''construct DFT matrix'''\n",
    "    import numpy as np\n",
    "    \n",
    "    # create a 1xN matrix containing indices 0 to N-1\n",
    "    a = np.expand_dims(np.arange(N), 0)\n",
    "    \n",
    "    # take advantage of numpy broadcasting to create the matrix\n",
    "    WN = np.exp(-2j*np.pi*a.T*a/N)  # El truco está en el producto externo para crear la matriz de índices: nk\n",
    "    \n",
    "    return WN"
   ]
  },
  {
   "cell_type": "markdown",
   "metadata": {},
   "source": [
    "The transformation $X[k]$ of the signal $x[n]$ is then given by $X = Wx$."
   ]
  },
  {
   "cell_type": "code",
   "execution_count": 2,
   "metadata": {
    "collapsed": false
   },
   "outputs": [
    {
     "name": "stdout",
     "output_type": "stream",
     "text": [
      "Populating the interactive namespace from numpy and matplotlib\n"
     ]
    }
   ],
   "source": [
    "%pylab inline\n",
    "N = 6\n",
    "WN = dftmatrix(N)\n",
    "\n",
    "x = np.ones(N)\n",
    "X = np.dot(WN, x)"
   ]
  },
  {
   "cell_type": "markdown",
   "metadata": {},
   "source": [
    "The inverse transformation\n",
    "$$ x(n)=\\frac{1}{N} \\sum_{k=1}^{N} X[k] e^{j(2\\pi/N)(n)(k)} $$\n"
   ]
  },
  {
   "cell_type": "code",
   "execution_count": 3,
   "metadata": {
    "collapsed": false
   },
   "outputs": [
    {
     "name": "stdout",
     "output_type": "stream",
     "text": [
      "Error:  5.2944039651e-15\n",
      "(This small error is due to machine precision.)\n"
     ]
    }
   ],
   "source": [
    "x2 = 1./N * np.dot(WN.T.conjugate(), X)\n",
    "print('Error: ',(np.abs(x - x2).sum()))\n",
    "print('(This small error is due to machine precision.)')"
   ]
  },
  {
   "cell_type": "markdown",
   "metadata": {},
   "source": [
    "###Magnitude and Phase"
   ]
  },
  {
   "cell_type": "markdown",
   "metadata": {},
   "source": [
    "Let's start with a simple signal: unitary step function (periodic) of length N=128..."
   ]
  },
  {
   "cell_type": "code",
   "execution_count": 4,
   "metadata": {
    "collapsed": false
   },
   "outputs": [
    {
     "data": {
      "image/png": "[encoded data removed]",
      "text/plain": [
       "<matplotlib.figure.Figure at 0x6c55c18>"
      ]
     },
     "metadata": {},
     "output_type": "display_data"
    },
    {
     "data": {
      "text/plain": [
       "(<matplotlib.text.Text at 0x6c74860>,\n",
       " <matplotlib.text.Text at 0x6c86978>,\n",
       " None)"
      ]
     },
     "execution_count": 4,
     "metadata": {},
     "output_type": "execute_result"
    }
   ],
   "source": [
    "x = np.append(np.ones(64),np.zeros(64))\n",
    "y = np.linspace(0,127,128)\n",
    "# The plotting is done by the pylab.stem function\n",
    "stem(y,x), ylim([0,2])\n",
    "xlabel('Samples'), ylabel('x'), show()"
   ]
  },
  {
   "cell_type": "markdown",
   "metadata": {},
   "source": [
    "The transformation matrix and the transform is then"
   ]
  },
  {
   "cell_type": "code",
   "execution_count": 5,
   "metadata": {
    "collapsed": false
   },
   "outputs": [],
   "source": [
    "x = x.flatten();    # I don't get why the flatten command is necessary\n",
    "N = 128\n",
    "W128 = dftmatrix(N)\n",
    "X  = np.dot(W128,x)"
   ]
  },
  {
   "cell_type": "markdown",
   "metadata": {},
   "source": [
    "The stem plot of the magnitude (absolute value), and phase (angle) of the DSF or DFT"
   ]
  },
  {
   "cell_type": "code",
   "execution_count": 6,
   "metadata": {
    "collapsed": false
   },
   "outputs": [
    {
     "data": {
      "image/png": "[encoded data removed]",
      "text/plain": [
       "<matplotlib.figure.Figure at 0x6e99588>"
      ]
     },
     "metadata": {},
     "output_type": "display_data"
    },
    {
     "data": {
      "image/png": "[encoded data removed]",
      "text/plain": [
       "<matplotlib.figure.Figure at 0x73a3e80>"
      ]
     },
     "metadata": {},
     "output_type": "display_data"
    }
   ],
   "source": [
    "Xmag = abs(X)\n",
    "Xphase = np.angle(X)\n",
    "\n",
    "y = np.linspace(0,127,128)\n",
    "y[:] = y[:]/len(y) #we are normalizing the frequencies\n",
    "# Plotting is done by the pylab.stem function\n",
    "stem(y,Xmag)\n",
    "ylabel('Magnitude'), xlabel('Normalized Frequencies')\n",
    "show()\n",
    "\n",
    "stem(y,Xphase)\n",
    "ylabel('Angle(X)'), xlabel('Normalized Frequencies')\n",
    "show()"
   ]
  },
  {
   "cell_type": "markdown",
   "metadata": {},
   "source": [
    "### Numerical intermezzo"
   ]
  },
  {
   "cell_type": "markdown",
   "metadata": {},
   "source": [
    "It is important to notice that, when the phase is close to $k\\pi$ with $k=0,1,2,…$, its computation is extremely sensitive to numerical errors. \n",
    "Consider for instance the third coefficient $X[3]$ of the DFT / DFS of the step function.\n",
    "If we theoretically compute such value, by remarking that is a geometric series $X[3]=\\sum_{n=1}^{N/2} a^n$ with $a=e^{-j(2\\pi/N)(n-1)(3-1)}$ we obtain $X[3]=\\frac{1-e^{-j(2\\pi/N)2 N/2 }}{1-e^{-j(2\\pi/N)2}}= 0$ i.e. a complex number with zero imaginary part, that by definition has an angle of zero.\n",
    "If we numerically compute such value:"
   ]
  },
  {
   "cell_type": "code",
   "execution_count": 7,
   "metadata": {
    "collapsed": false
   },
   "outputs": [
    {
     "name": "stdout",
     "output_type": "stream",
     "text": [
      "(-2.22044604925e-15-1.47104550763e-15j)\n",
      "-2.55648021541\n"
     ]
    }
   ],
   "source": [
    "X[2] = sum(W128[2])\n",
    "print(X[2])\n",
    "print(np.angle(X[2]))"
   ]
  },
  {
   "cell_type": "markdown",
   "metadata": {},
   "source": [
    "Notice that the theoretical phase of $X$ is"
   ]
  },
  {
   "cell_type": "code",
   "execution_count": 8,
   "metadata": {
    "collapsed": false
   },
   "outputs": [
    {
     "data": {
      "image/png": "[encoded data removed]",
      "text/plain": [
       "<matplotlib.figure.Figure at 0x75690b8>"
      ]
     },
     "metadata": {},
     "output_type": "display_data"
    }
   ],
   "source": [
    "Theoretical_phase = np.linspace(-1.5,1.5,128)  # \n",
    "Theoretical_phase[0:127:2] = 0                 # odd terms phase is zero\n",
    "stem(y,Theoretical_phase)\n",
    "ylabel('Angle(X)'), xlabel('Normalized Frequencies')\n",
    "xlim([0,1]), ylim([-2,2])\n",
    "show()"
   ]
  },
  {
   "cell_type": "markdown",
   "metadata": {},
   "source": [
    "The inverse transformation, is:"
   ]
  },
  {
   "cell_type": "code",
   "execution_count": 9,
   "metadata": {
    "collapsed": true
   },
   "outputs": [],
   "source": [
    "x_inv = np.dot(np.conjugate(W128),X) *1/128"
   ]
  },
  {
   "cell_type": "markdown",
   "metadata": {},
   "source": [
    "Which actually has real and imaginary parts, once again, by numerical errors. We shall therefore force the result to be real using the command np.real()"
   ]
  },
  {
   "cell_type": "code",
   "execution_count": 10,
   "metadata": {
    "collapsed": false
   },
   "outputs": [
    {
     "name": "stdout",
     "output_type": "stream",
     "text": [
      "real part has a magnitude: 64.0\n",
      "imag part has a magnitude: 1.32325500293e-26\n"
     ]
    }
   ],
   "source": [
    "print('real part has a magnitude:', np.dot(x_inv.real,x_inv.real))\n",
    "print('imag part has a magnitude:', np.dot(x_inv.imag,x_inv.imag))"
   ]
  },
  {
   "cell_type": "code",
   "execution_count": 11,
   "metadata": {
    "collapsed": true
   },
   "outputs": [],
   "source": [
    "xx = np.real(x_inv)"
   ]
  },
  {
   "cell_type": "code",
   "execution_count": 12,
   "metadata": {
    "collapsed": false
   },
   "outputs": [
    {
     "data": {
      "image/png": "[encoded data removed]",
      "text/plain": [
       "<matplotlib.figure.Figure at 0x6cc2128>"
      ]
     },
     "metadata": {},
     "output_type": "display_data"
    }
   ],
   "source": [
    "stem(np.arange(xx.size),xx)\n",
    "ylim([0,2]), xlim([0,128])\n",
    "ylabel('x'), xlabel('Samples')\n",
    "show()"
   ]
  },
  {
   "cell_type": "markdown",
   "metadata": {},
   "source": [
    "## The Role of the Fourier transform"
   ]
  },
  {
   "cell_type": "markdown",
   "metadata": {},
   "source": [
    "Load the file frequencyRepresentation.mat. The signal $x$ contained in the file is a sum of sinusoids, that is, is a sound composed of different tones. We would like to understand how many tones or sinusoids compose the signal."
   ]
  },
  {
   "cell_type": "code",
   "execution_count": 13,
   "metadata": {
    "collapsed": false
   },
   "outputs": [
    {
     "name": "stdout",
     "output_type": "stream",
     "text": [
      "{'__header__': b'MATLAB 5.0 MAT-file, Platform: MACI64, Created on: Wed Dec 19 14:17:23 2012', 'x': array([[  7.30443561e-01,   1.32608160e+00,   1.68257383e+00, ...,\n",
      "         -1.32608160e+00,  -7.30443561e-01,  -2.93915232e-14]]), '__version__': '1.0', '__globals__': []}\n",
      "[[  7.30443561e-01   1.32608160e+00   1.68257383e+00 ...,  -1.32608160e+00\n",
      "   -7.30443561e-01  -2.93915232e-14]]\n",
      "(1, 4000)\n"
     ]
    }
   ],
   "source": [
    "import scipy.io\n",
    "mat = scipy.io.loadmat('D:/TrabajoSwIng/Python/IPython Notebooks/DSPNumex_EPFL/NumEx4/frequencyRepresentation.mat')\n",
    "print(mat)\n",
    "\n",
    "signal = mat['x'] # WTF this means?\n",
    "print(signal)\n",
    "type(signal)\n",
    "print(np.shape(signal))"
   ]
  },
  {
   "cell_type": "markdown",
   "metadata": {},
   "source": [
    "In the time domain we can either visualize the signal using a basic plot function (the figure below only displays 500 samples out of the 4000),"
   ]
  },
  {
   "cell_type": "code",
   "execution_count": 14,
   "metadata": {
    "collapsed": false
   },
   "outputs": [
    {
     "data": {
      "image/png": "[encoded data removed]",
      "text/plain": [
       "<matplotlib.figure.Figure at 0x81dab38>"
      ]
     },
     "metadata": {},
     "output_type": "display_data"
    }
   ],
   "source": [
    "signal = signal.reshape(signal.size,)\n",
    "plot(np.arange(signal.size),signal)   # arange creates vectors as row matrices\n",
    "xlim([0,500])\n",
    "xlabel('Samples'), ylabel('x')\n",
    "show()"
   ]
  },
  {
   "cell_type": "markdown",
   "metadata": {},
   "source": [
    "Let's now take a look at the DFS /DFT. Once created, the transformation matrix (here N=4000)"
   ]
  },
  {
   "cell_type": "code",
   "execution_count": 15,
   "metadata": {
    "collapsed": false
   },
   "outputs": [
    {
     "data": {
      "image/png": "[encoded data removed]",
      "text/plain": [
       "<matplotlib.figure.Figure at 0x8d3c080>"
      ]
     },
     "metadata": {},
     "output_type": "display_data"
    }
   ],
   "source": [
    "signal = signal.reshape(signal.size,1)\n",
    "W = dftmatrix(len(signal))\n",
    "X = np.dot(W,signal)\n",
    "\n",
    "# The stem plot in normalized frequencies yields:\n",
    "normFrequ = np.arange(1,X.size+1,dtype=float)/float(X.size)\n",
    "plot(normFrequ,abs(X))\n",
    "ylabel('|X|'), xlabel('Normalized Frequencies')\n",
    "show()"
   ]
  },
  {
   "cell_type": "code",
   "execution_count": null,
   "metadata": {
    "collapsed": true
   },
   "outputs": [],
   "source": []
  }
 ],
 "metadata": {
  "anaconda-cloud": {},
  "kernelspec": {
   "display_name": "Python [default]",
   "language": "python",
   "name": "python3"
  },
  "language_info": {
   "codemirror_mode": {
    "name": "ipython",
    "version": 3
   },
   "file_extension": ".py",
   "mimetype": "text/x-python",
   "name": "python",
   "nbconvert_exporter": "python",
   "pygments_lexer": "ipython3",
   "version": "3.5.2"
  }
 },
 "nbformat": 4,
 "nbformat_minor": 0
}
